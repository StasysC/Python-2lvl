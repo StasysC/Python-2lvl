{
 "cells": [
  {
   "cell_type": "markdown",
   "metadata": {},
   "source": [
    "# Pandas III dalis"
   ]
  },
  {
   "cell_type": "code",
   "execution_count": 2,
   "metadata": {},
   "outputs": [],
   "source": [
    "import numpy as np\n",
    "import pandas as pd"
   ]
  },
  {
   "cell_type": "markdown",
   "metadata": {},
   "source": [
    "### Unikalios reikšmės"
   ]
  },
  {
   "cell_type": "code",
   "execution_count": 10,
   "metadata": {},
   "outputs": [],
   "source": [
    "top = pd.read_csv('top50.csv', encoding='ISO-8859-1')"
   ]
  },
  {
   "cell_type": "code",
   "execution_count": 11,
   "metadata": {},
   "outputs": [
    {
     "data": {
      "text/html": [
       "<div>\n",
       "<style scoped>\n",
       "    .dataframe tbody tr th:only-of-type {\n",
       "        vertical-align: middle;\n",
       "    }\n",
       "\n",
       "    .dataframe tbody tr th {\n",
       "        vertical-align: top;\n",
       "    }\n",
       "\n",
       "    .dataframe thead th {\n",
       "        text-align: right;\n",
       "    }\n",
       "</style>\n",
       "<table border=\"1\" class=\"dataframe\">\n",
       "  <thead>\n",
       "    <tr style=\"text-align: right;\">\n",
       "      <th></th>\n",
       "      <th>Unnamed: 0</th>\n",
       "      <th>Track.Name</th>\n",
       "      <th>Artist.Name</th>\n",
       "      <th>Genre</th>\n",
       "      <th>Beats.Per.Minute</th>\n",
       "      <th>Energy</th>\n",
       "      <th>Danceability</th>\n",
       "      <th>Loudness..dB..</th>\n",
       "      <th>Liveness</th>\n",
       "      <th>Valence.</th>\n",
       "      <th>Length.</th>\n",
       "      <th>Acousticness..</th>\n",
       "      <th>Speechiness.</th>\n",
       "      <th>Popularity</th>\n",
       "    </tr>\n",
       "  </thead>\n",
       "  <tbody>\n",
       "    <tr>\n",
       "      <th>0</th>\n",
       "      <td>1</td>\n",
       "      <td>Seï¿½orita</td>\n",
       "      <td>Shawn Mendes</td>\n",
       "      <td>canadian pop</td>\n",
       "      <td>117</td>\n",
       "      <td>55</td>\n",
       "      <td>76</td>\n",
       "      <td>-6</td>\n",
       "      <td>8</td>\n",
       "      <td>75</td>\n",
       "      <td>191</td>\n",
       "      <td>4</td>\n",
       "      <td>3</td>\n",
       "      <td>79</td>\n",
       "    </tr>\n",
       "    <tr>\n",
       "      <th>1</th>\n",
       "      <td>2</td>\n",
       "      <td>China</td>\n",
       "      <td>Anuel AA</td>\n",
       "      <td>reggaeton flow</td>\n",
       "      <td>105</td>\n",
       "      <td>81</td>\n",
       "      <td>79</td>\n",
       "      <td>-4</td>\n",
       "      <td>8</td>\n",
       "      <td>61</td>\n",
       "      <td>302</td>\n",
       "      <td>8</td>\n",
       "      <td>9</td>\n",
       "      <td>92</td>\n",
       "    </tr>\n",
       "    <tr>\n",
       "      <th>2</th>\n",
       "      <td>3</td>\n",
       "      <td>boyfriend (with Social House)</td>\n",
       "      <td>Ariana Grande</td>\n",
       "      <td>dance pop</td>\n",
       "      <td>190</td>\n",
       "      <td>80</td>\n",
       "      <td>40</td>\n",
       "      <td>-4</td>\n",
       "      <td>16</td>\n",
       "      <td>70</td>\n",
       "      <td>186</td>\n",
       "      <td>12</td>\n",
       "      <td>46</td>\n",
       "      <td>85</td>\n",
       "    </tr>\n",
       "    <tr>\n",
       "      <th>3</th>\n",
       "      <td>4</td>\n",
       "      <td>Beautiful People (feat. Khalid)</td>\n",
       "      <td>Ed Sheeran</td>\n",
       "      <td>pop</td>\n",
       "      <td>93</td>\n",
       "      <td>65</td>\n",
       "      <td>64</td>\n",
       "      <td>-8</td>\n",
       "      <td>8</td>\n",
       "      <td>55</td>\n",
       "      <td>198</td>\n",
       "      <td>12</td>\n",
       "      <td>19</td>\n",
       "      <td>86</td>\n",
       "    </tr>\n",
       "    <tr>\n",
       "      <th>4</th>\n",
       "      <td>5</td>\n",
       "      <td>Goodbyes (Feat. Young Thug)</td>\n",
       "      <td>Post Malone</td>\n",
       "      <td>dfw rap</td>\n",
       "      <td>150</td>\n",
       "      <td>65</td>\n",
       "      <td>58</td>\n",
       "      <td>-4</td>\n",
       "      <td>11</td>\n",
       "      <td>18</td>\n",
       "      <td>175</td>\n",
       "      <td>45</td>\n",
       "      <td>7</td>\n",
       "      <td>94</td>\n",
       "    </tr>\n",
       "  </tbody>\n",
       "</table>\n",
       "</div>"
      ],
      "text/plain": [
       "   Unnamed: 0                       Track.Name    Artist.Name           Genre  \\\n",
       "0           1                       Seï¿½orita   Shawn Mendes    canadian pop   \n",
       "1           2                            China       Anuel AA  reggaeton flow   \n",
       "2           3    boyfriend (with Social House)  Ariana Grande       dance pop   \n",
       "3           4  Beautiful People (feat. Khalid)     Ed Sheeran             pop   \n",
       "4           5      Goodbyes (Feat. Young Thug)    Post Malone         dfw rap   \n",
       "\n",
       "   Beats.Per.Minute  Energy  Danceability  Loudness..dB..  Liveness  Valence.  \\\n",
       "0               117      55            76              -6         8        75   \n",
       "1               105      81            79              -4         8        61   \n",
       "2               190      80            40              -4        16        70   \n",
       "3                93      65            64              -8         8        55   \n",
       "4               150      65            58              -4        11        18   \n",
       "\n",
       "   Length.  Acousticness..  Speechiness.  Popularity  \n",
       "0      191               4             3          79  \n",
       "1      302               8             9          92  \n",
       "2      186              12            46          85  \n",
       "3      198              12            19          86  \n",
       "4      175              45             7          94  "
      ]
     },
     "execution_count": 11,
     "metadata": {},
     "output_type": "execute_result"
    }
   ],
   "source": [
    "top.head()"
   ]
  },
  {
   "cell_type": "markdown",
   "metadata": {},
   "source": [
    "Nuskaitėme failą į DataFrame'ą 'top'. Šie duomenys - Spotify top 50 2019 dainų."
   ]
  },
  {
   "cell_type": "markdown",
   "metadata": {},
   "source": [
    "Pamėginkime išrinkti unikalias reikšmes iš stulpelio 'Genre':"
   ]
  },
  {
   "cell_type": "code",
   "execution_count": 12,
   "metadata": {},
   "outputs": [
    {
     "data": {
      "text/plain": [
       "array(['canadian pop', 'reggaeton flow', 'dance pop', 'pop', 'dfw rap',\n",
       "       'trap music', 'country rap', 'electropop', 'reggaeton',\n",
       "       'panamanian pop', 'canadian hip hop', 'latin', 'escape room',\n",
       "       'pop house', 'australian pop', 'edm', 'atl hip hop', 'big room',\n",
       "       'boy band', 'r&b en espanol', 'brostep'], dtype=object)"
      ]
     },
     "execution_count": 12,
     "metadata": {},
     "output_type": "execute_result"
    }
   ],
   "source": [
    "top['Genre'].unique()"
   ]
  },
  {
   "cell_type": "markdown",
   "metadata": {},
   "source": [
    "jeigu norime sužinoti, kiek jų yra, tiesiog naudojame *len* funkciją:"
   ]
  },
  {
   "cell_type": "code",
   "execution_count": 13,
   "metadata": {},
   "outputs": [
    {
     "data": {
      "text/plain": [
       "21"
      ]
     },
     "execution_count": 13,
     "metadata": {},
     "output_type": "execute_result"
    }
   ],
   "source": [
    "len(top['Genre'].unique())"
   ]
  },
  {
   "cell_type": "markdown",
   "metadata": {},
   "source": [
    "tą patį gausime, panaudoję pandas metodą **.nunique()**:"
   ]
  },
  {
   "cell_type": "code",
   "execution_count": 14,
   "metadata": {},
   "outputs": [
    {
     "data": {
      "text/plain": [
       "21"
      ]
     },
     "execution_count": 14,
     "metadata": {},
     "output_type": "execute_result"
    }
   ],
   "source": [
    "top['Genre'].nunique()"
   ]
  },
  {
   "cell_type": "markdown",
   "metadata": {},
   "source": [
    "galime panaudoti metodą **.value_counts()**:"
   ]
  },
  {
   "cell_type": "code",
   "execution_count": 15,
   "metadata": {},
   "outputs": [
    {
     "data": {
      "text/plain": [
       "dance pop           8\n",
       "pop                 7\n",
       "latin               5\n",
       "edm                 3\n",
       "canadian hip hop    3\n",
       "canadian pop        2\n",
       "reggaeton           2\n",
       "panamanian pop      2\n",
       "electropop          2\n",
       "reggaeton flow      2\n",
       "country rap         2\n",
       "dfw rap             2\n",
       "brostep             2\n",
       "big room            1\n",
       "trap music          1\n",
       "escape room         1\n",
       "australian pop      1\n",
       "r&b en espanol      1\n",
       "atl hip hop         1\n",
       "pop house           1\n",
       "boy band            1\n",
       "Name: Genre, dtype: int64"
      ]
     },
     "execution_count": 15,
     "metadata": {},
     "output_type": "execute_result"
    }
   ],
   "source": [
    "top['Genre'].value_counts()"
   ]
  },
  {
   "cell_type": "markdown",
   "metadata": {},
   "source": [
    "gavome sąrašą unikalių reikšmių, ir kiek jų yra lentelėje."
   ]
  },
  {
   "cell_type": "markdown",
   "metadata": {},
   "source": [
    "### .apply() metodas"
   ]
  },
  {
   "cell_type": "markdown",
   "metadata": {},
   "source": [
    "jei pamenate, su DF galime naudoti įvairias funkcijas, pvz.:"
   ]
  },
  {
   "cell_type": "code",
   "execution_count": 16,
   "metadata": {},
   "outputs": [
    {
     "data": {
      "text/plain": [
       "10048"
      ]
     },
     "execution_count": 16,
     "metadata": {},
     "output_type": "execute_result"
    }
   ],
   "source": [
    "top['Length.'].sum()"
   ]
  },
  {
   "cell_type": "markdown",
   "metadata": {},
   "source": [
    "su **.apply()** galime maudoti ir savo funkcijas. Parašykime funkciją, kuri iš duotų sekundžių skaičiaus išskirs minutes ir sekundes formatu mm:ss"
   ]
  },
  {
   "cell_type": "code",
   "execution_count": 17,
   "metadata": {},
   "outputs": [],
   "source": [
    "def minutes_seconds(s):\n",
    "    minutes = s // 60\n",
    "    seconds = s % 60\n",
    "    if len(str(seconds)) < 2:\n",
    "        return f'{minutes}:0{seconds}'\n",
    "    return f'{minutes}:{seconds}'"
   ]
  },
  {
   "cell_type": "code",
   "execution_count": 18,
   "metadata": {},
   "outputs": [
    {
     "data": {
      "text/plain": [
       "'1:50'"
      ]
     },
     "execution_count": 18,
     "metadata": {},
     "output_type": "execute_result"
    }
   ],
   "source": [
    "minutes_seconds(110)"
   ]
  },
  {
   "cell_type": "markdown",
   "metadata": {},
   "source": [
    "pritaikykime šią funkciją stulpeliui 'Length.':"
   ]
  },
  {
   "cell_type": "code",
   "execution_count": 19,
   "metadata": {},
   "outputs": [
    {
     "data": {
      "text/plain": [
       "0    3:11\n",
       "1    5:02\n",
       "2    3:06\n",
       "3    3:18\n",
       "4    2:55\n",
       "Name: Length., dtype: object"
      ]
     },
     "execution_count": 19,
     "metadata": {},
     "output_type": "execute_result"
    }
   ],
   "source": [
    "top['Length.'].apply(minutes_seconds).head()"
   ]
  },
  {
   "cell_type": "markdown",
   "metadata": {},
   "source": [
    "Gavome seriją. Galime jos pagrindu jos pagrindu pakoreguoti senąjį arba sukurti naują stulpelį, pvz.:"
   ]
  },
  {
   "cell_type": "code",
   "execution_count": 20,
   "metadata": {},
   "outputs": [],
   "source": [
    "top['Length.Pretty'] = top['Length.'].apply(minutes_seconds)"
   ]
  },
  {
   "cell_type": "code",
   "execution_count": 21,
   "metadata": {},
   "outputs": [
    {
     "data": {
      "text/html": [
       "<div>\n",
       "<style scoped>\n",
       "    .dataframe tbody tr th:only-of-type {\n",
       "        vertical-align: middle;\n",
       "    }\n",
       "\n",
       "    .dataframe tbody tr th {\n",
       "        vertical-align: top;\n",
       "    }\n",
       "\n",
       "    .dataframe thead th {\n",
       "        text-align: right;\n",
       "    }\n",
       "</style>\n",
       "<table border=\"1\" class=\"dataframe\">\n",
       "  <thead>\n",
       "    <tr style=\"text-align: right;\">\n",
       "      <th></th>\n",
       "      <th>Unnamed: 0</th>\n",
       "      <th>Track.Name</th>\n",
       "      <th>Artist.Name</th>\n",
       "      <th>Genre</th>\n",
       "      <th>Beats.Per.Minute</th>\n",
       "      <th>Energy</th>\n",
       "      <th>Danceability</th>\n",
       "      <th>Loudness..dB..</th>\n",
       "      <th>Liveness</th>\n",
       "      <th>Valence.</th>\n",
       "      <th>Length.</th>\n",
       "      <th>Acousticness..</th>\n",
       "      <th>Speechiness.</th>\n",
       "      <th>Popularity</th>\n",
       "      <th>Length.Pretty</th>\n",
       "    </tr>\n",
       "  </thead>\n",
       "  <tbody>\n",
       "    <tr>\n",
       "      <th>0</th>\n",
       "      <td>1</td>\n",
       "      <td>Seï¿½orita</td>\n",
       "      <td>Shawn Mendes</td>\n",
       "      <td>canadian pop</td>\n",
       "      <td>117</td>\n",
       "      <td>55</td>\n",
       "      <td>76</td>\n",
       "      <td>-6</td>\n",
       "      <td>8</td>\n",
       "      <td>75</td>\n",
       "      <td>191</td>\n",
       "      <td>4</td>\n",
       "      <td>3</td>\n",
       "      <td>79</td>\n",
       "      <td>3:11</td>\n",
       "    </tr>\n",
       "    <tr>\n",
       "      <th>1</th>\n",
       "      <td>2</td>\n",
       "      <td>China</td>\n",
       "      <td>Anuel AA</td>\n",
       "      <td>reggaeton flow</td>\n",
       "      <td>105</td>\n",
       "      <td>81</td>\n",
       "      <td>79</td>\n",
       "      <td>-4</td>\n",
       "      <td>8</td>\n",
       "      <td>61</td>\n",
       "      <td>302</td>\n",
       "      <td>8</td>\n",
       "      <td>9</td>\n",
       "      <td>92</td>\n",
       "      <td>5:02</td>\n",
       "    </tr>\n",
       "    <tr>\n",
       "      <th>2</th>\n",
       "      <td>3</td>\n",
       "      <td>boyfriend (with Social House)</td>\n",
       "      <td>Ariana Grande</td>\n",
       "      <td>dance pop</td>\n",
       "      <td>190</td>\n",
       "      <td>80</td>\n",
       "      <td>40</td>\n",
       "      <td>-4</td>\n",
       "      <td>16</td>\n",
       "      <td>70</td>\n",
       "      <td>186</td>\n",
       "      <td>12</td>\n",
       "      <td>46</td>\n",
       "      <td>85</td>\n",
       "      <td>3:06</td>\n",
       "    </tr>\n",
       "    <tr>\n",
       "      <th>3</th>\n",
       "      <td>4</td>\n",
       "      <td>Beautiful People (feat. Khalid)</td>\n",
       "      <td>Ed Sheeran</td>\n",
       "      <td>pop</td>\n",
       "      <td>93</td>\n",
       "      <td>65</td>\n",
       "      <td>64</td>\n",
       "      <td>-8</td>\n",
       "      <td>8</td>\n",
       "      <td>55</td>\n",
       "      <td>198</td>\n",
       "      <td>12</td>\n",
       "      <td>19</td>\n",
       "      <td>86</td>\n",
       "      <td>3:18</td>\n",
       "    </tr>\n",
       "    <tr>\n",
       "      <th>4</th>\n",
       "      <td>5</td>\n",
       "      <td>Goodbyes (Feat. Young Thug)</td>\n",
       "      <td>Post Malone</td>\n",
       "      <td>dfw rap</td>\n",
       "      <td>150</td>\n",
       "      <td>65</td>\n",
       "      <td>58</td>\n",
       "      <td>-4</td>\n",
       "      <td>11</td>\n",
       "      <td>18</td>\n",
       "      <td>175</td>\n",
       "      <td>45</td>\n",
       "      <td>7</td>\n",
       "      <td>94</td>\n",
       "      <td>2:55</td>\n",
       "    </tr>\n",
       "  </tbody>\n",
       "</table>\n",
       "</div>"
      ],
      "text/plain": [
       "   Unnamed: 0                       Track.Name    Artist.Name           Genre  \\\n",
       "0           1                       Seï¿½orita   Shawn Mendes    canadian pop   \n",
       "1           2                            China       Anuel AA  reggaeton flow   \n",
       "2           3    boyfriend (with Social House)  Ariana Grande       dance pop   \n",
       "3           4  Beautiful People (feat. Khalid)     Ed Sheeran             pop   \n",
       "4           5      Goodbyes (Feat. Young Thug)    Post Malone         dfw rap   \n",
       "\n",
       "   Beats.Per.Minute  Energy  Danceability  Loudness..dB..  Liveness  Valence.  \\\n",
       "0               117      55            76              -6         8        75   \n",
       "1               105      81            79              -4         8        61   \n",
       "2               190      80            40              -4        16        70   \n",
       "3                93      65            64              -8         8        55   \n",
       "4               150      65            58              -4        11        18   \n",
       "\n",
       "   Length.  Acousticness..  Speechiness.  Popularity Length.Pretty  \n",
       "0      191               4             3          79          3:11  \n",
       "1      302               8             9          92          5:02  \n",
       "2      186              12            46          85          3:06  \n",
       "3      198              12            19          86          3:18  \n",
       "4      175              45             7          94          2:55  "
      ]
     },
     "execution_count": 21,
     "metadata": {},
     "output_type": "execute_result"
    }
   ],
   "source": [
    "top.head()"
   ]
  },
  {
   "cell_type": "markdown",
   "metadata": {},
   "source": [
    "Galime naudoti **lambdas**:"
   ]
  },
  {
   "cell_type": "code",
   "execution_count": 22,
   "metadata": {},
   "outputs": [
    {
     "data": {
      "text/plain": [
       "0    6\n",
       "1    8\n",
       "2    8\n",
       "3    6\n",
       "4    6\n",
       "Name: Energy, dtype: int64"
      ]
     },
     "execution_count": 22,
     "metadata": {},
     "output_type": "execute_result"
    }
   ],
   "source": [
    "top['Energy'].apply(lambda x: round(x/10)).head()"
   ]
  },
  {
   "cell_type": "markdown",
   "metadata": {},
   "source": [
    "pavertėme 'Energy' stulpelio įvertinimus iš šimtabalės į dešimtbalę sistemą."
   ]
  },
  {
   "cell_type": "markdown",
   "metadata": {},
   "source": [
    "### Naudingos funkcijos"
   ]
  },
  {
   "cell_type": "markdown",
   "metadata": {},
   "source": [
    "**.columns** grąžina stulpelių sąrašą"
   ]
  },
  {
   "cell_type": "code",
   "execution_count": 23,
   "metadata": {},
   "outputs": [
    {
     "data": {
      "text/plain": [
       "Index(['Unnamed: 0', 'Track.Name', 'Artist.Name', 'Genre', 'Beats.Per.Minute',\n",
       "       'Energy', 'Danceability', 'Loudness..dB..', 'Liveness', 'Valence.',\n",
       "       'Length.', 'Acousticness..', 'Speechiness.', 'Popularity',\n",
       "       'Length.Pretty'],\n",
       "      dtype='object')"
      ]
     },
     "execution_count": 23,
     "metadata": {},
     "output_type": "execute_result"
    }
   ],
   "source": [
    "top.columns"
   ]
  },
  {
   "cell_type": "markdown",
   "metadata": {},
   "source": [
    "**.index** suteikia informaciją apie indeksą:"
   ]
  },
  {
   "cell_type": "code",
   "execution_count": 24,
   "metadata": {},
   "outputs": [
    {
     "data": {
      "text/plain": [
       "RangeIndex(start=0, stop=50, step=1)"
      ]
     },
     "execution_count": 24,
     "metadata": {},
     "output_type": "execute_result"
    }
   ],
   "source": [
    "top.index"
   ]
  },
  {
   "cell_type": "markdown",
   "metadata": {},
   "source": [
    "**.shape** grąžina *tuple* su eilučių ir stulpelių skaičiumi"
   ]
  },
  {
   "cell_type": "code",
   "execution_count": 25,
   "metadata": {},
   "outputs": [
    {
     "data": {
      "text/plain": [
       "(50, 15)"
      ]
     },
     "execution_count": 25,
     "metadata": {},
     "output_type": "execute_result"
    }
   ],
   "source": [
    "top.shape"
   ]
  },
  {
   "cell_type": "markdown",
   "metadata": {},
   "source": [
    "**.sort_values** surūšiuoja eilutes pagal nurodytą stulpelį:"
   ]
  },
  {
   "cell_type": "code",
   "execution_count": 26,
   "metadata": {},
   "outputs": [
    {
     "data": {
      "text/html": [
       "<div>\n",
       "<style scoped>\n",
       "    .dataframe tbody tr th:only-of-type {\n",
       "        vertical-align: middle;\n",
       "    }\n",
       "\n",
       "    .dataframe tbody tr th {\n",
       "        vertical-align: top;\n",
       "    }\n",
       "\n",
       "    .dataframe thead th {\n",
       "        text-align: right;\n",
       "    }\n",
       "</style>\n",
       "<table border=\"1\" class=\"dataframe\">\n",
       "  <thead>\n",
       "    <tr style=\"text-align: right;\">\n",
       "      <th></th>\n",
       "      <th>Unnamed: 0</th>\n",
       "      <th>Track.Name</th>\n",
       "      <th>Artist.Name</th>\n",
       "      <th>Genre</th>\n",
       "      <th>Beats.Per.Minute</th>\n",
       "      <th>Energy</th>\n",
       "      <th>Danceability</th>\n",
       "      <th>Loudness..dB..</th>\n",
       "      <th>Liveness</th>\n",
       "      <th>Valence.</th>\n",
       "      <th>Length.</th>\n",
       "      <th>Acousticness..</th>\n",
       "      <th>Speechiness.</th>\n",
       "      <th>Popularity</th>\n",
       "      <th>Length.Pretty</th>\n",
       "    </tr>\n",
       "  </thead>\n",
       "  <tbody>\n",
       "    <tr>\n",
       "      <th>32</th>\n",
       "      <td>33</td>\n",
       "      <td>0.958333333333333</td>\n",
       "      <td>Maluma</td>\n",
       "      <td>reggaeton</td>\n",
       "      <td>96</td>\n",
       "      <td>71</td>\n",
       "      <td>78</td>\n",
       "      <td>-5</td>\n",
       "      <td>9</td>\n",
       "      <td>68</td>\n",
       "      <td>176</td>\n",
       "      <td>22</td>\n",
       "      <td>28</td>\n",
       "      <td>89</td>\n",
       "      <td>2:56</td>\n",
       "    </tr>\n",
       "    <tr>\n",
       "      <th>31</th>\n",
       "      <td>32</td>\n",
       "      <td>7 rings</td>\n",
       "      <td>Ariana Grande</td>\n",
       "      <td>dance pop</td>\n",
       "      <td>140</td>\n",
       "      <td>32</td>\n",
       "      <td>78</td>\n",
       "      <td>-11</td>\n",
       "      <td>9</td>\n",
       "      <td>33</td>\n",
       "      <td>179</td>\n",
       "      <td>59</td>\n",
       "      <td>33</td>\n",
       "      <td>89</td>\n",
       "      <td>2:59</td>\n",
       "    </tr>\n",
       "    <tr>\n",
       "      <th>37</th>\n",
       "      <td>38</td>\n",
       "      <td>Antisocial (with Travis Scott)</td>\n",
       "      <td>Ed Sheeran</td>\n",
       "      <td>pop</td>\n",
       "      <td>152</td>\n",
       "      <td>82</td>\n",
       "      <td>72</td>\n",
       "      <td>-5</td>\n",
       "      <td>36</td>\n",
       "      <td>91</td>\n",
       "      <td>162</td>\n",
       "      <td>13</td>\n",
       "      <td>5</td>\n",
       "      <td>87</td>\n",
       "      <td>2:42</td>\n",
       "    </tr>\n",
       "    <tr>\n",
       "      <th>3</th>\n",
       "      <td>4</td>\n",
       "      <td>Beautiful People (feat. Khalid)</td>\n",
       "      <td>Ed Sheeran</td>\n",
       "      <td>pop</td>\n",
       "      <td>93</td>\n",
       "      <td>65</td>\n",
       "      <td>64</td>\n",
       "      <td>-8</td>\n",
       "      <td>8</td>\n",
       "      <td>55</td>\n",
       "      <td>198</td>\n",
       "      <td>12</td>\n",
       "      <td>19</td>\n",
       "      <td>86</td>\n",
       "      <td>3:18</td>\n",
       "    </tr>\n",
       "    <tr>\n",
       "      <th>48</th>\n",
       "      <td>49</td>\n",
       "      <td>Call You Mine</td>\n",
       "      <td>The Chainsmokers</td>\n",
       "      <td>edm</td>\n",
       "      <td>104</td>\n",
       "      <td>70</td>\n",
       "      <td>59</td>\n",
       "      <td>-6</td>\n",
       "      <td>41</td>\n",
       "      <td>50</td>\n",
       "      <td>218</td>\n",
       "      <td>23</td>\n",
       "      <td>3</td>\n",
       "      <td>88</td>\n",
       "      <td>3:38</td>\n",
       "    </tr>\n",
       "  </tbody>\n",
       "</table>\n",
       "</div>"
      ],
      "text/plain": [
       "    Unnamed: 0                       Track.Name       Artist.Name      Genre  \\\n",
       "32          33                0.958333333333333            Maluma  reggaeton   \n",
       "31          32                          7 rings     Ariana Grande  dance pop   \n",
       "37          38   Antisocial (with Travis Scott)        Ed Sheeran        pop   \n",
       "3            4  Beautiful People (feat. Khalid)        Ed Sheeran        pop   \n",
       "48          49                    Call You Mine  The Chainsmokers        edm   \n",
       "\n",
       "    Beats.Per.Minute  Energy  Danceability  Loudness..dB..  Liveness  \\\n",
       "32                96      71            78              -5         9   \n",
       "31               140      32            78             -11         9   \n",
       "37               152      82            72              -5        36   \n",
       "3                 93      65            64              -8         8   \n",
       "48               104      70            59              -6        41   \n",
       "\n",
       "    Valence.  Length.  Acousticness..  Speechiness.  Popularity Length.Pretty  \n",
       "32        68      176              22            28          89          2:56  \n",
       "31        33      179              59            33          89          2:59  \n",
       "37        91      162              13             5          87          2:42  \n",
       "3         55      198              12            19          86          3:18  \n",
       "48        50      218              23             3          88          3:38  "
      ]
     },
     "execution_count": 26,
     "metadata": {},
     "output_type": "execute_result"
    }
   ],
   "source": [
    "top.sort_values('Track.Name').head()"
   ]
  },
  {
   "cell_type": "markdown",
   "metadata": {},
   "source": [
    "**.isnull()** grąžina lentelę su boolean reikšmėmis kur True reiškia NaN. "
   ]
  },
  {
   "cell_type": "code",
   "execution_count": 27,
   "metadata": {},
   "outputs": [
    {
     "data": {
      "text/html": [
       "<div>\n",
       "<style scoped>\n",
       "    .dataframe tbody tr th:only-of-type {\n",
       "        vertical-align: middle;\n",
       "    }\n",
       "\n",
       "    .dataframe tbody tr th {\n",
       "        vertical-align: top;\n",
       "    }\n",
       "\n",
       "    .dataframe thead th {\n",
       "        text-align: right;\n",
       "    }\n",
       "</style>\n",
       "<table border=\"1\" class=\"dataframe\">\n",
       "  <thead>\n",
       "    <tr style=\"text-align: right;\">\n",
       "      <th></th>\n",
       "      <th>Unnamed: 0</th>\n",
       "      <th>Track.Name</th>\n",
       "      <th>Artist.Name</th>\n",
       "      <th>Genre</th>\n",
       "      <th>Beats.Per.Minute</th>\n",
       "      <th>Energy</th>\n",
       "      <th>Danceability</th>\n",
       "      <th>Loudness..dB..</th>\n",
       "      <th>Liveness</th>\n",
       "      <th>Valence.</th>\n",
       "      <th>Length.</th>\n",
       "      <th>Acousticness..</th>\n",
       "      <th>Speechiness.</th>\n",
       "      <th>Popularity</th>\n",
       "      <th>Length.Pretty</th>\n",
       "    </tr>\n",
       "  </thead>\n",
       "  <tbody>\n",
       "    <tr>\n",
       "      <th>0</th>\n",
       "      <td>False</td>\n",
       "      <td>False</td>\n",
       "      <td>False</td>\n",
       "      <td>False</td>\n",
       "      <td>False</td>\n",
       "      <td>False</td>\n",
       "      <td>False</td>\n",
       "      <td>False</td>\n",
       "      <td>False</td>\n",
       "      <td>False</td>\n",
       "      <td>False</td>\n",
       "      <td>False</td>\n",
       "      <td>False</td>\n",
       "      <td>False</td>\n",
       "      <td>False</td>\n",
       "    </tr>\n",
       "    <tr>\n",
       "      <th>1</th>\n",
       "      <td>False</td>\n",
       "      <td>False</td>\n",
       "      <td>False</td>\n",
       "      <td>False</td>\n",
       "      <td>False</td>\n",
       "      <td>False</td>\n",
       "      <td>False</td>\n",
       "      <td>False</td>\n",
       "      <td>False</td>\n",
       "      <td>False</td>\n",
       "      <td>False</td>\n",
       "      <td>False</td>\n",
       "      <td>False</td>\n",
       "      <td>False</td>\n",
       "      <td>False</td>\n",
       "    </tr>\n",
       "    <tr>\n",
       "      <th>2</th>\n",
       "      <td>False</td>\n",
       "      <td>False</td>\n",
       "      <td>False</td>\n",
       "      <td>False</td>\n",
       "      <td>False</td>\n",
       "      <td>False</td>\n",
       "      <td>False</td>\n",
       "      <td>False</td>\n",
       "      <td>False</td>\n",
       "      <td>False</td>\n",
       "      <td>False</td>\n",
       "      <td>False</td>\n",
       "      <td>False</td>\n",
       "      <td>False</td>\n",
       "      <td>False</td>\n",
       "    </tr>\n",
       "    <tr>\n",
       "      <th>3</th>\n",
       "      <td>False</td>\n",
       "      <td>False</td>\n",
       "      <td>False</td>\n",
       "      <td>False</td>\n",
       "      <td>False</td>\n",
       "      <td>False</td>\n",
       "      <td>False</td>\n",
       "      <td>False</td>\n",
       "      <td>False</td>\n",
       "      <td>False</td>\n",
       "      <td>False</td>\n",
       "      <td>False</td>\n",
       "      <td>False</td>\n",
       "      <td>False</td>\n",
       "      <td>False</td>\n",
       "    </tr>\n",
       "    <tr>\n",
       "      <th>4</th>\n",
       "      <td>False</td>\n",
       "      <td>False</td>\n",
       "      <td>False</td>\n",
       "      <td>False</td>\n",
       "      <td>False</td>\n",
       "      <td>False</td>\n",
       "      <td>False</td>\n",
       "      <td>False</td>\n",
       "      <td>False</td>\n",
       "      <td>False</td>\n",
       "      <td>False</td>\n",
       "      <td>False</td>\n",
       "      <td>False</td>\n",
       "      <td>False</td>\n",
       "      <td>False</td>\n",
       "    </tr>\n",
       "  </tbody>\n",
       "</table>\n",
       "</div>"
      ],
      "text/plain": [
       "   Unnamed: 0  Track.Name  Artist.Name  Genre  Beats.Per.Minute  Energy  \\\n",
       "0       False       False        False  False             False   False   \n",
       "1       False       False        False  False             False   False   \n",
       "2       False       False        False  False             False   False   \n",
       "3       False       False        False  False             False   False   \n",
       "4       False       False        False  False             False   False   \n",
       "\n",
       "   Danceability  Loudness..dB..  Liveness  Valence.  Length.  Acousticness..  \\\n",
       "0         False           False     False     False    False           False   \n",
       "1         False           False     False     False    False           False   \n",
       "2         False           False     False     False    False           False   \n",
       "3         False           False     False     False    False           False   \n",
       "4         False           False     False     False    False           False   \n",
       "\n",
       "   Speechiness.  Popularity  Length.Pretty  \n",
       "0         False       False          False  \n",
       "1         False       False          False  \n",
       "2         False       False          False  \n",
       "3         False       False          False  \n",
       "4         False       False          False  "
      ]
     },
     "execution_count": 27,
     "metadata": {},
     "output_type": "execute_result"
    }
   ],
   "source": [
    "top.isnull().head()"
   ]
  },
  {
   "cell_type": "markdown",
   "metadata": {},
   "source": [
    "ši lentelė tvarkinga, todėl True reikšmių nesimato :)"
   ]
  },
  {
   "cell_type": "markdown",
   "metadata": {},
   "source": [
    "# Duomenų nuskaitymas / įrašymas"
   ]
  },
  {
   "cell_type": "markdown",
   "metadata": {},
   "source": [
    "### CSV"
   ]
  },
  {
   "cell_type": "markdown",
   "metadata": {},
   "source": [
    "CSV - turbūt dažniausiai pasitaikantis formatas, analizuojant duomenis. Vieną CSV failą jau nuskaitėme pirmose šio dokumento eilutėse. Nuskaitykime dar vieną:"
   ]
  },
  {
   "cell_type": "code",
   "execution_count": 31,
   "metadata": {},
   "outputs": [],
   "source": [
    "duomenys = pd.read_csv('example.csv')"
   ]
  },
  {
   "cell_type": "markdown",
   "metadata": {},
   "source": [
    "Jeigu norite nurodyti tiesiog failo pavadinimą, įsitikinkite, kad jupyter-notebook veikimo katalogas yra tas pats, kaip ir to failo buvimo vieta. Koks darbinis jupyter-notebook katalogas galite sužinoti, suvedę komandą **pwd**. Kitu atveju reikės nurodyti pilną kelią iki dokumento."
   ]
  },
  {
   "cell_type": "code",
   "execution_count": 32,
   "metadata": {},
   "outputs": [
    {
     "data": {
      "text/html": [
       "<div>\n",
       "<style scoped>\n",
       "    .dataframe tbody tr th:only-of-type {\n",
       "        vertical-align: middle;\n",
       "    }\n",
       "\n",
       "    .dataframe tbody tr th {\n",
       "        vertical-align: top;\n",
       "    }\n",
       "\n",
       "    .dataframe thead th {\n",
       "        text-align: right;\n",
       "    }\n",
       "</style>\n",
       "<table border=\"1\" class=\"dataframe\">\n",
       "  <thead>\n",
       "    <tr style=\"text-align: right;\">\n",
       "      <th></th>\n",
       "      <th>Numeris</th>\n",
       "      <th>Seniūnija</th>\n",
       "      <th>Plotas</th>\n",
       "      <th>Gyventojų skaičius</th>\n",
       "    </tr>\n",
       "  </thead>\n",
       "  <tbody>\n",
       "    <tr>\n",
       "      <th>0</th>\n",
       "      <td>1</td>\n",
       "      <td>Verkių seniūnija</td>\n",
       "      <td>55,65 km²</td>\n",
       "      <td>49359</td>\n",
       "    </tr>\n",
       "    <tr>\n",
       "      <th>1</th>\n",
       "      <td>2</td>\n",
       "      <td>Antakalnio seniūnija</td>\n",
       "      <td>77,2 km²</td>\n",
       "      <td>39758</td>\n",
       "    </tr>\n",
       "    <tr>\n",
       "      <th>2</th>\n",
       "      <td>3</td>\n",
       "      <td>Pašilaičių seniūnija</td>\n",
       "      <td>8,2 km²</td>\n",
       "      <td>39543</td>\n",
       "    </tr>\n",
       "    <tr>\n",
       "      <th>3</th>\n",
       "      <td>4</td>\n",
       "      <td>Fabijoniškių seniūnija</td>\n",
       "      <td>4,1 km²</td>\n",
       "      <td>38253</td>\n",
       "    </tr>\n",
       "    <tr>\n",
       "      <th>4</th>\n",
       "      <td>5</td>\n",
       "      <td>Pilaitės seniūnija</td>\n",
       "      <td>13,8 km²</td>\n",
       "      <td>26376</td>\n",
       "    </tr>\n",
       "  </tbody>\n",
       "</table>\n",
       "</div>"
      ],
      "text/plain": [
       "   Numeris               Seniūnija     Plotas  Gyventojų skaičius\n",
       "0        1        Verkių seniūnija  55,65 km²               49359\n",
       "1        2    Antakalnio seniūnija   77,2 km²               39758\n",
       "2        3    Pašilaičių seniūnija    8,2 km²               39543\n",
       "3        4  Fabijoniškių seniūnija    4,1 km²               38253\n",
       "4        5      Pilaitės seniūnija   13,8 km²               26376"
      ]
     },
     "execution_count": 32,
     "metadata": {},
     "output_type": "execute_result"
    }
   ],
   "source": [
    "duomenys.head()"
   ]
  },
  {
   "cell_type": "markdown",
   "metadata": {},
   "source": [
    "norėdami įrašyti duomenis į csv failą, darome taip:"
   ]
  },
  {
   "cell_type": "code",
   "execution_count": 34,
   "metadata": {},
   "outputs": [],
   "source": [
    "duomenys.to_csv('result.csv', index=False)"
   ]
  },
  {
   "cell_type": "markdown",
   "metadata": {},
   "source": [
    "*index=False* nurodome todėl, kad kurdama csv, pandas nuskaito indeksą, kaip atskirą stulpelį ir paskui sugeneruoja dar vieną šalia."
   ]
  },
  {
   "cell_type": "markdown",
   "metadata": {},
   "source": [
    "### XLS"
   ]
  },
  {
   "cell_type": "markdown",
   "metadata": {},
   "source": [
    "Pandas gali nuskaityti ekselio failus, tačiau tik duomenis. Įvairios funkcijos, formulės, macros pandoms nepavaldžios. "
   ]
  },
  {
   "cell_type": "code",
   "execution_count": 44,
   "metadata": {},
   "outputs": [],
   "source": [
    "duomenys_xls = pd.read_excel('example.xls', sheet_name='example')"
   ]
  },
  {
   "cell_type": "markdown",
   "metadata": {},
   "source": [
    "Pandas DataFrame'ų ieško excelio *sheet'uose* todėl reikia juos nurodyti. "
   ]
  },
  {
   "cell_type": "code",
   "execution_count": 42,
   "metadata": {},
   "outputs": [
    {
     "data": {
      "text/html": [
       "<div>\n",
       "<style scoped>\n",
       "    .dataframe tbody tr th:only-of-type {\n",
       "        vertical-align: middle;\n",
       "    }\n",
       "\n",
       "    .dataframe tbody tr th {\n",
       "        vertical-align: top;\n",
       "    }\n",
       "\n",
       "    .dataframe thead th {\n",
       "        text-align: right;\n",
       "    }\n",
       "</style>\n",
       "<table border=\"1\" class=\"dataframe\">\n",
       "  <thead>\n",
       "    <tr style=\"text-align: right;\">\n",
       "      <th></th>\n",
       "      <th>Numeris</th>\n",
       "      <th>Seniūnija</th>\n",
       "      <th>Plotas</th>\n",
       "      <th>Gyventojų skaičius</th>\n",
       "    </tr>\n",
       "  </thead>\n",
       "  <tbody>\n",
       "    <tr>\n",
       "      <th>0</th>\n",
       "      <td>1</td>\n",
       "      <td>Verkių seniūnija</td>\n",
       "      <td>55,65 km²</td>\n",
       "      <td>49359</td>\n",
       "    </tr>\n",
       "    <tr>\n",
       "      <th>1</th>\n",
       "      <td>2</td>\n",
       "      <td>Antakalnio seniūnija</td>\n",
       "      <td>77,2 km²</td>\n",
       "      <td>39758</td>\n",
       "    </tr>\n",
       "    <tr>\n",
       "      <th>2</th>\n",
       "      <td>3</td>\n",
       "      <td>Pašilaičių seniūnija</td>\n",
       "      <td>8,2 km²</td>\n",
       "      <td>39543</td>\n",
       "    </tr>\n",
       "    <tr>\n",
       "      <th>3</th>\n",
       "      <td>4</td>\n",
       "      <td>Fabijoniškių seniūnija</td>\n",
       "      <td>4,1 km²</td>\n",
       "      <td>38253</td>\n",
       "    </tr>\n",
       "    <tr>\n",
       "      <th>4</th>\n",
       "      <td>5</td>\n",
       "      <td>Pilaitės seniūnija</td>\n",
       "      <td>13,8 km²</td>\n",
       "      <td>26376</td>\n",
       "    </tr>\n",
       "  </tbody>\n",
       "</table>\n",
       "</div>"
      ],
      "text/plain": [
       "   Numeris               Seniūnija     Plotas  Gyventojų skaičius\n",
       "0        1        Verkių seniūnija  55,65 km²               49359\n",
       "1        2    Antakalnio seniūnija   77,2 km²               39758\n",
       "2        3    Pašilaičių seniūnija    8,2 km²               39543\n",
       "3        4  Fabijoniškių seniūnija    4,1 km²               38253\n",
       "4        5      Pilaitės seniūnija   13,8 km²               26376"
      ]
     },
     "execution_count": 42,
     "metadata": {},
     "output_type": "execute_result"
    }
   ],
   "source": [
    "duomenys_xls.head()"
   ]
  },
  {
   "cell_type": "markdown",
   "metadata": {},
   "source": [
    "Įrašymas:"
   ]
  },
  {
   "cell_type": "code",
   "execution_count": 45,
   "metadata": {},
   "outputs": [],
   "source": [
    "duomenys_xls.to_excel('result.xls', sheet_name = 'Sheet1')"
   ]
  },
  {
   "cell_type": "markdown",
   "metadata": {},
   "source": [
    "### HTML"
   ]
  },
  {
   "cell_type": "markdown",
   "metadata": {},
   "source": [
    "Galime pamėginti nuskaityti HTML tiesiog nurodant pandoms URL:"
   ]
  },
  {
   "cell_type": "code",
   "execution_count": 52,
   "metadata": {},
   "outputs": [],
   "source": [
    "duomenys_html = pd.read_html('https://lt.wikipedia.org/wiki/Vilniaus_miesto_savivaldyb%C4%97')"
   ]
  },
  {
   "cell_type": "code",
   "execution_count": 51,
   "metadata": {},
   "outputs": [
    {
     "data": {
      "text/plain": [
       "[                     0                          1\n",
       " 0                  NaN                        NaN\n",
       " 1             Valstybė                    Lietuva\n",
       " 2            Apskritis         Vilniaus apskritis\n",
       " 3              Miestai         Vilnius, Grigiškės\n",
       " 4  Gyventojų (2017 m.)                 544391 (1)\n",
       " 5   Gyventojų tankumas         1381,7 žm./km² (6)\n",
       " 6               Plotas               401 km² (51)\n",
       " 7                Meras  Remigijus Šimašius (2019)\n",
       " 8             Svetainė                 vilnius.lt,\n",
       "                         0                      1                      2  \\\n",
       " 0   Savivaldybės istorija  Savivaldybės istorija  Savivaldybės istorija   \n",
       " 1                   Metai            Plotas, km²          Gyventojų sk.   \n",
       " 2                    1942                    NaN                 146300   \n",
       " 3         1949 (išsamiau)                   1387                    NaN   \n",
       " 4                    1957                    NaN                    NaN   \n",
       " 5        1959 (surašymas)                   1423                 230769   \n",
       " 6                    1967                    153                 316400   \n",
       " 7        1970 (surašymas)                    265                 372100   \n",
       " 8                    1972                  26179                    NaN   \n",
       " 9                    1976                    263                 445900   \n",
       " 10       1979 (surašymas)                    NaN                 475825   \n",
       " 11                   1988                  28718                 577000   \n",
       " 12                   1989                    287                 576747   \n",
       " 13                   1999                    401                 588400   \n",
       " 14       2001 (surašymas)                    401                 553904   \n",
       " \n",
       "                                          3  \\\n",
       " 0                    Savivaldybės istorija   \n",
       " 1                             Suskirstymas   \n",
       " 2                                      NaN   \n",
       " 3   5 miesto rajonai (11 miesto apylinkių)   \n",
       " 4                         4 miesto rajonai   \n",
       " 5                         4 miesto rajonai   \n",
       " 6                                      NaN   \n",
       " 7                         4 miesto rajonai   \n",
       " 8                         4 miesto rajonai   \n",
       " 9                                      NaN   \n",
       " 10                        4 miesto rajonai   \n",
       " 11                        4 miesto rajonai   \n",
       " 12                                     NaN   \n",
       " 13                                     NaN   \n",
       " 14                            21 seniūnija   \n",
       " \n",
       "                                                     4  \n",
       " 0                               Savivaldybės istorija  \n",
       " 1                                         Gyvenvietės  \n",
       " 2                                                 NaN  \n",
       " 3                                                 NaN  \n",
       " 4                                                 NaN  \n",
       " 5                                  1 miestas: Vilnius  \n",
       " 6                                                 NaN  \n",
       " 7                                           1 miestas  \n",
       " 8                                           1 miestas  \n",
       " 9                                           1 miestas  \n",
       " 10                                          1 miestas  \n",
       " 11                                          1 miestas  \n",
       " 12                                          1 miestas  \n",
       " 13                                                NaN  \n",
       " 14  2 miestai: Grigiškės, Vilnius 3 kaimai (išsamiau)  ,\n",
       "                                                     0  \\\n",
       " 0   ž • a • rVilniaus miesto saugomos teritorijosV...   \n",
       " 1       ž • a • rVilniaus miesto saugomos teritorijos   \n",
       " 2                                                 NaN   \n",
       " 3                             Valstybiniai rezervatai   \n",
       " 4                                                 NaN   \n",
       " 5                                  Regioniniai parkai   \n",
       " 6                                                 NaN   \n",
       " 7                            Valstybiniai draustiniai   \n",
       " 8                                                 NaN   \n",
       " 9                            Savivaldybės draustiniai   \n",
       " 10                                                NaN   \n",
       " 11                                   Gamtos paminklai   \n",
       " 12                                                NaN   \n",
       " 13               Valstybiniai gamtos paveldo objektai   \n",
       " 14                                                NaN   \n",
       " 15               Savivaldybės gamtos paveldo objektai   \n",
       " \n",
       "                                                     1  \n",
       " 0                                                 NaN  \n",
       " 1       ž • a • rVilniaus miesto saugomos teritorijos  \n",
       " 2                                                 NaN  \n",
       " 3                Vilniaus pilių kultūrinis rezervatas  \n",
       " 4                                                 NaN  \n",
       " 5   Pavilnių regioninis parkas • Verkių regioninis...  \n",
       " 6                                                 NaN  \n",
       " 7   Dvarčionių geomorfologinis • Griovių geomorfol...  \n",
       " 8                                                 NaN  \n",
       " 9   Aukštagirio geomorfologinis • Cedrono aukštupi...  \n",
       " 10                                                NaN  \n",
       " 11  Plikakalnio atodanga • Pūčkorių atodanga • Šeš...  \n",
       " 12                                                NaN  \n",
       " 13              Aukštųjų Panerių geležinkelio tunelis  \n",
       " 14                                                NaN  \n",
       " 15  Antakalnio parko kedrinė pušis • Aštuonių klev...  ,\n",
       "    ž • a • rVilniaus miesto saugomos teritorijos  \\\n",
       " 0                                            NaN   \n",
       " 1                        Valstybiniai rezervatai   \n",
       " 2                                            NaN   \n",
       " 3                             Regioniniai parkai   \n",
       " 4                                            NaN   \n",
       " 5                       Valstybiniai draustiniai   \n",
       " 6                                            NaN   \n",
       " 7                       Savivaldybės draustiniai   \n",
       " 8                                            NaN   \n",
       " 9                               Gamtos paminklai   \n",
       " 10                                           NaN   \n",
       " 11          Valstybiniai gamtos paveldo objektai   \n",
       " 12                                           NaN   \n",
       " 13          Savivaldybės gamtos paveldo objektai   \n",
       " \n",
       "       ž • a • rVilniaus miesto saugomos teritorijos.1  \n",
       " 0                                                 NaN  \n",
       " 1                Vilniaus pilių kultūrinis rezervatas  \n",
       " 2                                                 NaN  \n",
       " 3   Pavilnių regioninis parkas • Verkių regioninis...  \n",
       " 4                                                 NaN  \n",
       " 5   Dvarčionių geomorfologinis • Griovių geomorfol...  \n",
       " 6                                                 NaN  \n",
       " 7   Aukštagirio geomorfologinis • Cedrono aukštupi...  \n",
       " 8                                                 NaN  \n",
       " 9   Plikakalnio atodanga • Pūčkorių atodanga • Šeš...  \n",
       " 10                                                NaN  \n",
       " 11              Aukštųjų Panerių geležinkelio tunelis  \n",
       " 12                                                NaN  \n",
       " 13  Antakalnio parko kedrinė pušis • Aštuonių klev...  ,\n",
       "                                            0  \\\n",
       " 0  Demografinė raida tarp 1959 m. ir 2011 m.   \n",
       " 1                                1959 m.sur.   \n",
       " 2                                    230 769   \n",
       " 3             Demografinės raidos histograma   \n",
       " 4             Demografinės raidos histograma   \n",
       " 5                                        NaN   \n",
       " \n",
       "                                            1  \\\n",
       " 0  Demografinė raida tarp 1959 m. ir 2011 m.   \n",
       " 1                                1970 m.sur.   \n",
       " 2                                    372 100   \n",
       " 3             Demografinės raidos histograma   \n",
       " 4                                        NaN   \n",
       " 5                                        NaN   \n",
       " \n",
       "                                            2  \\\n",
       " 0  Demografinė raida tarp 1959 m. ir 2011 m.   \n",
       " 1                                1979 m.sur.   \n",
       " 2                                    475 825   \n",
       " 3             Demografinės raidos histograma   \n",
       " 4                                        NaN   \n",
       " 5                                        NaN   \n",
       " \n",
       "                                            3  \\\n",
       " 0  Demografinė raida tarp 1959 m. ir 2011 m.   \n",
       " 1                                1989 m.sur.   \n",
       " 2                                    576 747   \n",
       " 3             Demografinės raidos histograma   \n",
       " 4                                        NaN   \n",
       " 5                                        NaN   \n",
       " \n",
       "                                            4  \\\n",
       " 0  Demografinė raida tarp 1959 m. ir 2011 m.   \n",
       " 1                                2001 m.sur.   \n",
       " 2                                    553 904   \n",
       " 3             Demografinės raidos histograma   \n",
       " 4                                        NaN   \n",
       " 5                                        NaN   \n",
       " \n",
       "                                            5  \\\n",
       " 0  Demografinė raida tarp 1959 m. ir 2011 m.   \n",
       " 1                                    2005 m.   \n",
       " 2                                    560 190   \n",
       " 3             Demografinės raidos histograma   \n",
       " 4                                        NaN   \n",
       " 5                                        NaN   \n",
       " \n",
       "                                            6  \n",
       " 0  Demografinė raida tarp 1959 m. ir 2011 m.  \n",
       " 1                             2011 m.sur.[1]  \n",
       " 2                                    538 968  \n",
       " 3             Demografinės raidos histograma  \n",
       " 4                                        NaN  \n",
       " 5                                        NaN  ,\n",
       " Empty DataFrame\n",
       " Columns: [Demografinės raidos histograma]\n",
       " Index: [],\n",
       "     Numeris                    Seniūnija     Plotas  Gyventojų skaičius\n",
       " 0         1             Verkių seniūnija  55,65 km²               49359\n",
       " 1         2         Antakalnio seniūnija   77,2 km²               39758\n",
       " 2         3         Pašilaičių seniūnija    8,2 km²               39543\n",
       " 3         4       Fabijoniškių seniūnija    4,1 km²               38253\n",
       " 4         5           Pilaitės seniūnija   13,8 km²               26376\n",
       " 5         6        Justiniškių seniūnija   2,98 km²               26818\n",
       " 6         7        Viršuliškių seniūnija    2,5 km²               14177\n",
       " 7         8           Šeškinės seniūnija    4,4 km²               34084\n",
       " 8         9          Šnipiškių seniūnija   3,12 km²               16657\n",
       " 9        10            Žirmūnų seniūnija    8,5 km²               44028\n",
       " 10       11       Karoliniškių seniūnija    4,0 km²               25770\n",
       " 11       12            Žvėryno seniūnija    2,7 km²               13465\n",
       " 12       13          Grigiškių seniūnija    7,1 km²               11592\n",
       " 13       14            Lazdynų seniūnija   10,3 km²               31900\n",
       " 14       15          Vilkpėdės seniūnija   10,3 km²               20472\n",
       " 15       16       Naujamiesčio seniūnija    4,8 km²               30693\n",
       " 16       17        Senamiesčio seniūnija    4,5 km²               21503\n",
       " 17       18  Naujosios Vilnios seniūnija   39,3 km²               37372\n",
       " 18       19            Panerių seniūnija  84,94 km²               10064\n",
       " 19       20         Naujininkų seniūnija   41,1 km²               31407\n",
       " 20       21               Rasų seniūnija   12,7 km²               11463,\n",
       "                                                    0  \\\n",
       " 0  Almata, Kazachija  Astana, Kazachija  Briuseli...   \n",
       " \n",
       "                                                    1  \\\n",
       " 0  Erfurtas, Vokietija  Gdanskas, Lenkija  Guangd...   \n",
       " \n",
       "                                                    2  \\\n",
       " 0  Madisonas, JAV  Minskas, Baltarusija  Olborgas...   \n",
       " \n",
       "                                                    3  \n",
       " 0  Stokholmas, Švedija  Strasbūras, Prancūzija  T...  ,\n",
       "                                                    0  \\\n",
       " 0  ž • a • rLietuvos apskritys Alytaus apskritis ...   \n",
       " 1                        ž • a • rLietuvos apskritys   \n",
       " 2                                                NaN   \n",
       " 3  Alytaus apskritis | Kauno apskritis | Klaipėdo...   \n",
       " 4                                                NaN   \n",
       " 5                                 Vilniaus apskritis   \n",
       " 6                                                NaN   \n",
       " 7  Elektrėnų savivaldybė | Šalčininkų rajonas | Š...   \n",
       " \n",
       "                                                    1  \n",
       " 0                                                NaN  \n",
       " 1                        ž • a • rLietuvos apskritys  \n",
       " 2                                                NaN  \n",
       " 3  Alytaus apskritis | Kauno apskritis | Klaipėdo...  \n",
       " 4                                                NaN  \n",
       " 5                                 Vilniaus apskritis  \n",
       " 6                                                NaN  \n",
       " 7  Elektrėnų savivaldybė | Šalčininkų rajonas | Š...  ,\n",
       "                          ž • a • rLietuvos apskritys  \\\n",
       " 0                                                NaN   \n",
       " 1  Alytaus apskritis | Kauno apskritis | Klaipėdo...   \n",
       " 2                                                NaN   \n",
       " 3                                 Vilniaus apskritis   \n",
       " 4                                                NaN   \n",
       " 5  Elektrėnų savivaldybė | Šalčininkų rajonas | Š...   \n",
       " \n",
       "                        ž • a • rLietuvos apskritys.1  \n",
       " 0                                                NaN  \n",
       " 1  Alytaus apskritis | Kauno apskritis | Klaipėdo...  \n",
       " 2                                                NaN  \n",
       " 3                                 Vilniaus apskritis  \n",
       " 4                                                NaN  \n",
       " 5  Elektrėnų savivaldybė | Šalčininkų rajonas | Š...  ]"
      ]
     },
     "execution_count": 51,
     "metadata": {},
     "output_type": "execute_result"
    }
   ],
   "source": [
    "duomenys_html"
   ]
  },
  {
   "cell_type": "markdown",
   "metadata": {},
   "source": [
    "Pandas pabandė ištraukti visas lenteles iš puslapio ir gavosi štai tokia košė :)"
   ]
  },
  {
   "cell_type": "markdown",
   "metadata": {},
   "source": [
    "šie duomenys yra DataFrame'ų sąrašas:"
   ]
  },
  {
   "cell_type": "code",
   "execution_count": 53,
   "metadata": {},
   "outputs": [
    {
     "data": {
      "text/plain": [
       "list"
      ]
     },
     "execution_count": 53,
     "metadata": {},
     "output_type": "execute_result"
    }
   ],
   "source": [
    "type(duomenys_html)"
   ]
  },
  {
   "cell_type": "code",
   "execution_count": 61,
   "metadata": {},
   "outputs": [
    {
     "data": {
      "text/plain": [
       "pandas.core.frame.DataFrame"
      ]
     },
     "execution_count": 61,
     "metadata": {},
     "output_type": "execute_result"
    }
   ],
   "source": [
    "type(duomenys_html[0])"
   ]
  },
  {
   "cell_type": "code",
   "execution_count": 69,
   "metadata": {},
   "outputs": [
    {
     "data": {
      "text/html": [
       "<div>\n",
       "<style scoped>\n",
       "    .dataframe tbody tr th:only-of-type {\n",
       "        vertical-align: middle;\n",
       "    }\n",
       "\n",
       "    .dataframe tbody tr th {\n",
       "        vertical-align: top;\n",
       "    }\n",
       "\n",
       "    .dataframe thead th {\n",
       "        text-align: right;\n",
       "    }\n",
       "</style>\n",
       "<table border=\"1\" class=\"dataframe\">\n",
       "  <thead>\n",
       "    <tr style=\"text-align: right;\">\n",
       "      <th></th>\n",
       "      <th>Numeris</th>\n",
       "      <th>Seniūnija</th>\n",
       "      <th>Plotas</th>\n",
       "      <th>Gyventojų skaičius</th>\n",
       "    </tr>\n",
       "  </thead>\n",
       "  <tbody>\n",
       "    <tr>\n",
       "      <th>0</th>\n",
       "      <td>1</td>\n",
       "      <td>Verkių seniūnija</td>\n",
       "      <td>55,65 km²</td>\n",
       "      <td>49359</td>\n",
       "    </tr>\n",
       "    <tr>\n",
       "      <th>1</th>\n",
       "      <td>2</td>\n",
       "      <td>Antakalnio seniūnija</td>\n",
       "      <td>77,2 km²</td>\n",
       "      <td>39758</td>\n",
       "    </tr>\n",
       "    <tr>\n",
       "      <th>2</th>\n",
       "      <td>3</td>\n",
       "      <td>Pašilaičių seniūnija</td>\n",
       "      <td>8,2 km²</td>\n",
       "      <td>39543</td>\n",
       "    </tr>\n",
       "    <tr>\n",
       "      <th>3</th>\n",
       "      <td>4</td>\n",
       "      <td>Fabijoniškių seniūnija</td>\n",
       "      <td>4,1 km²</td>\n",
       "      <td>38253</td>\n",
       "    </tr>\n",
       "    <tr>\n",
       "      <th>4</th>\n",
       "      <td>5</td>\n",
       "      <td>Pilaitės seniūnija</td>\n",
       "      <td>13,8 km²</td>\n",
       "      <td>26376</td>\n",
       "    </tr>\n",
       "  </tbody>\n",
       "</table>\n",
       "</div>"
      ],
      "text/plain": [
       "   Numeris               Seniūnija     Plotas  Gyventojų skaičius\n",
       "0        1        Verkių seniūnija  55,65 km²               49359\n",
       "1        2    Antakalnio seniūnija   77,2 km²               39758\n",
       "2        3    Pašilaičių seniūnija    8,2 km²               39543\n",
       "3        4  Fabijoniškių seniūnija    4,1 km²               38253\n",
       "4        5      Pilaitės seniūnija   13,8 km²               26376"
      ]
     },
     "execution_count": 69,
     "metadata": {},
     "output_type": "execute_result"
    }
   ],
   "source": [
    "duomenys_html[6].head()"
   ]
  },
  {
   "cell_type": "markdown",
   "metadata": {},
   "source": [
    "paspėliojus iškapstėme savo lentelę. Galima, žinoma sukurti *for* ciklą grąžinantį mums reikiamos lentelės indeksą, bet greičiau būna kartais paspėlioti :)"
   ]
  },
  {
   "cell_type": "markdown",
   "metadata": {},
   "source": [
    "### SQL"
   ]
  },
  {
   "cell_type": "markdown",
   "metadata": {},
   "source": [
    "Susikurkime primityvią duomenų bazę:"
   ]
  },
  {
   "cell_type": "code",
   "execution_count": 70,
   "metadata": {},
   "outputs": [],
   "source": [
    "from sqlalchemy import create_engine"
   ]
  },
  {
   "cell_type": "code",
   "execution_count": 73,
   "metadata": {},
   "outputs": [],
   "source": [
    "engine = create_engine('sqlite:///duomenys.db')"
   ]
  },
  {
   "cell_type": "markdown",
   "metadata": {},
   "source": [
    "įdėkime mūsų DF į duomenų bazę:"
   ]
  },
  {
   "cell_type": "code",
   "execution_count": 78,
   "metadata": {},
   "outputs": [],
   "source": [
    "duomenys.to_sql('savivaldos', con=engine, index=False)"
   ]
  },
  {
   "cell_type": "markdown",
   "metadata": {},
   "source": [
    "Dabar ištraukime:"
   ]
  },
  {
   "cell_type": "code",
   "execution_count": 79,
   "metadata": {},
   "outputs": [],
   "source": [
    "duomenys_sql = pd.read_sql('savivaldos', con=engine.connect())"
   ]
  },
  {
   "cell_type": "code",
   "execution_count": 81,
   "metadata": {},
   "outputs": [
    {
     "data": {
      "text/html": [
       "<div>\n",
       "<style scoped>\n",
       "    .dataframe tbody tr th:only-of-type {\n",
       "        vertical-align: middle;\n",
       "    }\n",
       "\n",
       "    .dataframe tbody tr th {\n",
       "        vertical-align: top;\n",
       "    }\n",
       "\n",
       "    .dataframe thead th {\n",
       "        text-align: right;\n",
       "    }\n",
       "</style>\n",
       "<table border=\"1\" class=\"dataframe\">\n",
       "  <thead>\n",
       "    <tr style=\"text-align: right;\">\n",
       "      <th></th>\n",
       "      <th>Numeris</th>\n",
       "      <th>Seniūnija</th>\n",
       "      <th>Plotas</th>\n",
       "      <th>Gyventojų skaičius</th>\n",
       "    </tr>\n",
       "  </thead>\n",
       "  <tbody>\n",
       "    <tr>\n",
       "      <th>0</th>\n",
       "      <td>1</td>\n",
       "      <td>Verkių seniūnija</td>\n",
       "      <td>55,65 km²</td>\n",
       "      <td>49359</td>\n",
       "    </tr>\n",
       "    <tr>\n",
       "      <th>1</th>\n",
       "      <td>2</td>\n",
       "      <td>Antakalnio seniūnija</td>\n",
       "      <td>77,2 km²</td>\n",
       "      <td>39758</td>\n",
       "    </tr>\n",
       "    <tr>\n",
       "      <th>2</th>\n",
       "      <td>3</td>\n",
       "      <td>Pašilaičių seniūnija</td>\n",
       "      <td>8,2 km²</td>\n",
       "      <td>39543</td>\n",
       "    </tr>\n",
       "    <tr>\n",
       "      <th>3</th>\n",
       "      <td>4</td>\n",
       "      <td>Fabijoniškių seniūnija</td>\n",
       "      <td>4,1 km²</td>\n",
       "      <td>38253</td>\n",
       "    </tr>\n",
       "    <tr>\n",
       "      <th>4</th>\n",
       "      <td>5</td>\n",
       "      <td>Pilaitės seniūnija</td>\n",
       "      <td>13,8 km²</td>\n",
       "      <td>26376</td>\n",
       "    </tr>\n",
       "  </tbody>\n",
       "</table>\n",
       "</div>"
      ],
      "text/plain": [
       "   Numeris               Seniūnija     Plotas  Gyventojų skaičius\n",
       "0        1        Verkių seniūnija  55,65 km²               49359\n",
       "1        2    Antakalnio seniūnija   77,2 km²               39758\n",
       "2        3    Pašilaičių seniūnija    8,2 km²               39543\n",
       "3        4  Fabijoniškių seniūnija    4,1 km²               38253\n",
       "4        5      Pilaitės seniūnija   13,8 km²               26376"
      ]
     },
     "execution_count": 81,
     "metadata": {},
     "output_type": "execute_result"
    }
   ],
   "source": [
    "duomenys_sql.head()"
   ]
  },
  {
   "cell_type": "markdown",
   "metadata": {},
   "source": [
    "# Pastaba:"
   ]
  },
  {
   "cell_type": "markdown",
   "metadata": {},
   "source": [
    "Jeigu kažkuris iš nuskaitymo/įrašymo metodų neveiks, tikėtina, kad trūksta kažko iš šių bibliotekų:\n",
    "* conda install sqlalchemy\n",
    "* conda install lxml\n",
    "* conda install html5lib\n",
    "* conda install BeautifulSoup4"
   ]
  },
  {
   "cell_type": "code",
   "execution_count": null,
   "metadata": {},
   "outputs": [],
   "source": []
  }
 ],
 "metadata": {
  "kernelspec": {
   "display_name": "Python 3",
   "language": "python",
   "name": "python3"
  },
  "language_info": {
   "codemirror_mode": {
    "name": "ipython",
    "version": 3
   },
   "file_extension": ".py",
   "mimetype": "text/x-python",
   "name": "python",
   "nbconvert_exporter": "python",
   "pygments_lexer": "ipython3",
   "version": "3.7.3"
  }
 },
 "nbformat": 4,
 "nbformat_minor": 2
}
